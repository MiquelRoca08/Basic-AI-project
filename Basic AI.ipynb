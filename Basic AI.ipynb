{
 "cells": [
  {
   "cell_type": "code",
   "execution_count": null,
   "id": "1e6e070a",
   "metadata": {
    "vscode": {
     "languageId": "plaintext"
    }
   },
   "outputs": [],
   "source": [
    "def calculate_pass_probability(study_hours, sleep_hours):\n",
    "\n",
    "    if study_hours < 1:\n",
    "        study_score = 0.2\n",
    "    elif 1 <= study_hours <= 3:\n",
    "        study_score = 0.6\n",
    "    elif 3 < study_hours <= 6:\n",
    "        study_score = 0.9\n",
    "    else:\n",
    "        study_score = 1.0\n",
    "\n",
    "    if sleep_hours < 6:\n",
    "        sleep_score = 0.4\n",
    "    elif 6 <= sleep_hours <= 9:\n",
    "        sleep_score = 0.9 \n",
    "    else:\n",
    "        sleep_score = 0.7\n",
    "\n",
    "    study_weight = 0.7\n",
    "    sleep_weight = 0.3\n",
    "\n",
    "    probability = (study_score * study_weight + sleep_score * sleep_weight) * 100\n",
    "\n",
    "    return round(probability, 2)\n",
    "\n",
    "x = float(input(\"Enter study hours: \"))\n",
    "y = float(input(\"Enter sleep hours: \"))\n",
    "\n",
    "print(f\"Probability of passing: {calculate_pass_probability(x, y)}%\")"
   ]
  }
 ],
 "metadata": {
  "language_info": {
   "name": "python"
  }
 },
 "nbformat": 4,
 "nbformat_minor": 5
}
